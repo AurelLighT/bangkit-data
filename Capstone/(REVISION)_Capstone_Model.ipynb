{
  "nbformat": 4,
  "nbformat_minor": 0,
  "metadata": {
    "colab": {
      "provenance": [],
      "collapsed_sections": [
        "xHS3wGGTYiyO",
        "jvgZMJZgYozu",
        "qm-Jv4sIZXUq",
        "eFsgn6czaKVz",
        "gfDwy6_Caiym",
        "4b9bJY_moy1S"
      ]
    },
    "kernelspec": {
      "name": "python3",
      "display_name": "Python 3"
    },
    "language_info": {
      "name": "python"
    }
  },
  "cells": [
    {
      "cell_type": "code",
      "source": [
        "!pip install keras_preprocessing"
      ],
      "metadata": {
        "colab": {
          "base_uri": "https://localhost:8080/"
        },
        "id": "tvWqgmcf9tNI",
        "outputId": "8c7c142e-cd4a-49e1-bf2b-982b277f7d61"
      },
      "execution_count": null,
      "outputs": [
        {
          "output_type": "stream",
          "name": "stdout",
          "text": [
            "Collecting keras_preprocessing\n",
            "  Downloading Keras_Preprocessing-1.1.2-py2.py3-none-any.whl (42 kB)\n",
            "\u001b[2K     \u001b[90m━━━━━━━━━━━━━━━━━━━━━━━━━━━━━━━━━━━━━━━━\u001b[0m \u001b[32m42.6/42.6 kB\u001b[0m \u001b[31m670.1 kB/s\u001b[0m eta \u001b[36m0:00:00\u001b[0m\n",
            "\u001b[?25hRequirement already satisfied: numpy>=1.9.1 in /usr/local/lib/python3.10/dist-packages (from keras_preprocessing) (1.25.2)\n",
            "Requirement already satisfied: six>=1.9.0 in /usr/local/lib/python3.10/dist-packages (from keras_preprocessing) (1.16.0)\n",
            "Installing collected packages: keras_preprocessing\n",
            "Successfully installed keras_preprocessing-1.1.2\n"
          ]
        }
      ]
    },
    {
      "cell_type": "code",
      "source": [
        "import urllib.request\n",
        "import zipfile\n",
        "import tensorflow as tf\n",
        "import os\n",
        "import numpy as np\n",
        "from tensorflow.keras.preprocessing import image\n",
        "from keras_preprocessing.image import ImageDataGenerator"
      ],
      "metadata": {
        "id": "N8O7MUuOZQbT"
      },
      "execution_count": null,
      "outputs": []
    },
    {
      "cell_type": "code",
      "source": [
        "import keras_preprocessing\n",
        "\n",
        "print(\"TensorFlow version:\", tf.__version__)\n",
        "print(\"NumPy version:\", np.__version__)\n",
        "print(\"Keras Preprocessing version:\", keras_preprocessing.__version__)\n"
      ],
      "metadata": {
        "colab": {
          "base_uri": "https://localhost:8080/"
        },
        "id": "pnnf6O89ka3x",
        "outputId": "8df89c0d-03d3-4757-c533-f604061ab377"
      },
      "execution_count": null,
      "outputs": [
        {
          "output_type": "stream",
          "name": "stdout",
          "text": [
            "TensorFlow version: 2.15.0\n",
            "NumPy version: 1.25.2\n",
            "Keras Preprocessing version: 1.1.2\n"
          ]
        }
      ]
    },
    {
      "cell_type": "markdown",
      "source": [
        "# Arithmetic"
      ],
      "metadata": {
        "id": "xHS3wGGTYiyO"
      }
    },
    {
      "cell_type": "code",
      "execution_count": null,
      "metadata": {
        "colab": {
          "base_uri": "https://localhost:8080/"
        },
        "id": "Eiy_z6ML9Vu7",
        "outputId": "9175dab0-fad8-4162-d420-03908802fa1d"
      },
      "outputs": [
        {
          "output_type": "stream",
          "name": "stdout",
          "text": [
            "Found 148 images belonging to 16 classes.\n",
            "Found 32 images belonging to 16 classes.\n"
          ]
        }
      ],
      "source": [
        "local_file = 'arithmetic.zip'\n",
        "zip_ref = zipfile.ZipFile(local_file, 'r')\n",
        "zip_ref.extractall('')\n",
        "zip_ref.close()\n",
        "\n",
        "TRAINING_DIR = \"arithmetic/train/\"\n",
        "TEST_DIR = \"arithmetic/test/\"\n",
        "training_datagen = ImageDataGenerator()\n",
        "test_datagen = ImageDataGenerator()\n",
        "train_generator = training_datagen.flow_from_directory(\n",
        "    TRAINING_DIR,\n",
        "    class_mode='categorical',\n",
        "    batch_size=64,\n",
        "    target_size=(50, 50))\n",
        "test_generator = test_datagen.flow_from_directory(\n",
        "    TEST_DIR,\n",
        "    class_mode='categorical',\n",
        "    batch_size=64,\n",
        "    target_size=(50, 50)\n",
        ")"
      ]
    },
    {
      "cell_type": "code",
      "source": [
        "num_classes = train_generator.num_classes\n",
        "model=tf.keras.models.Sequential([\n",
        "  tf.keras.layers.Conv2D(16, (3,3), input_shape=(50,50,3)),\n",
        "  tf.keras.layers.MaxPooling2D(2,2),\n",
        "  tf.keras.layers.Conv2D(32, (3,3)),\n",
        "  tf.keras.layers.MaxPooling2D(2,2),\n",
        "  tf.keras.layers.Flatten(),\n",
        "  tf.keras.layers.Dense(128),\n",
        "  tf.keras.layers.Dense(num_classes, activation='softmax')\n",
        "])\n",
        "model.compile(\n",
        "    optimizer = 'adam',\n",
        "    loss = 'categorical_crossentropy',\n",
        "    metrics = 'accuracy'\n",
        ")\n",
        "\n",
        "\n",
        "model.summary()"
      ],
      "metadata": {
        "colab": {
          "base_uri": "https://localhost:8080/"
        },
        "id": "sBgSKRHIVgI4",
        "outputId": "d65a05dd-b6ef-49d4-c5a2-5a854c97c193"
      },
      "execution_count": null,
      "outputs": [
        {
          "output_type": "stream",
          "name": "stdout",
          "text": [
            "Model: \"sequential_3\"\n",
            "_________________________________________________________________\n",
            " Layer (type)                Output Shape              Param #   \n",
            "=================================================================\n",
            " conv2d_8 (Conv2D)           (None, 48, 48, 16)        448       \n",
            "                                                                 \n",
            " max_pooling2d_8 (MaxPoolin  (None, 24, 24, 16)        0         \n",
            " g2D)                                                            \n",
            "                                                                 \n",
            " conv2d_9 (Conv2D)           (None, 22, 22, 32)        4640      \n",
            "                                                                 \n",
            " max_pooling2d_9 (MaxPoolin  (None, 11, 11, 32)        0         \n",
            " g2D)                                                            \n",
            "                                                                 \n",
            " flatten_3 (Flatten)         (None, 3872)              0         \n",
            "                                                                 \n",
            " dense_6 (Dense)             (None, 128)               495744    \n",
            "                                                                 \n",
            " dense_7 (Dense)             (None, 16)                2064      \n",
            "                                                                 \n",
            "=================================================================\n",
            "Total params: 502896 (1.92 MB)\n",
            "Trainable params: 502896 (1.92 MB)\n",
            "Non-trainable params: 0 (0.00 Byte)\n",
            "_________________________________________________________________\n"
          ]
        }
      ]
    },
    {
      "cell_type": "code",
      "source": [
        "model.fit(train_generator, epochs=10, validation_data=test_generator)"
      ],
      "metadata": {
        "colab": {
          "base_uri": "https://localhost:8080/"
        },
        "id": "FKBKycE7Vh9L",
        "outputId": "fa5f66d1-7a3f-460a-ab02-6d95b231a61f"
      },
      "execution_count": null,
      "outputs": [
        {
          "output_type": "stream",
          "name": "stdout",
          "text": [
            "Epoch 1/10\n",
            "3/3 [==============================] - 2s 125ms/step - loss: 660.8464 - accuracy: 0.1216 - val_loss: 770.5737 - val_accuracy: 0.2500\n",
            "Epoch 2/10\n",
            "3/3 [==============================] - 0s 33ms/step - loss: 617.7960 - accuracy: 0.4324 - val_loss: 255.0005 - val_accuracy: 0.4375\n",
            "Epoch 3/10\n",
            "3/3 [==============================] - 0s 32ms/step - loss: 277.1149 - accuracy: 0.4932 - val_loss: 160.1990 - val_accuracy: 0.5625\n",
            "Epoch 4/10\n",
            "3/3 [==============================] - 0s 33ms/step - loss: 86.6127 - accuracy: 0.6419 - val_loss: 60.6515 - val_accuracy: 0.7500\n",
            "Epoch 5/10\n",
            "3/3 [==============================] - 0s 34ms/step - loss: 42.7151 - accuracy: 0.8581 - val_loss: 28.7677 - val_accuracy: 0.9062\n",
            "Epoch 6/10\n",
            "3/3 [==============================] - 0s 39ms/step - loss: 12.1914 - accuracy: 0.9459 - val_loss: 6.1065 - val_accuracy: 0.9375\n",
            "Epoch 7/10\n",
            "3/3 [==============================] - 0s 33ms/step - loss: 12.7363 - accuracy: 0.9189 - val_loss: 9.6917 - val_accuracy: 0.9375\n",
            "Epoch 8/10\n",
            "3/3 [==============================] - 0s 42ms/step - loss: 0.7830 - accuracy: 0.9865 - val_loss: 9.0293 - val_accuracy: 0.9375\n",
            "Epoch 9/10\n",
            "3/3 [==============================] - 0s 41ms/step - loss: 0.0000e+00 - accuracy: 1.0000 - val_loss: 13.3127 - val_accuracy: 0.9375\n",
            "Epoch 10/10\n",
            "3/3 [==============================] - 0s 37ms/step - loss: 1.5634e-05 - accuracy: 1.0000 - val_loss: 16.6179 - val_accuracy: 0.9375\n"
          ]
        },
        {
          "output_type": "execute_result",
          "data": {
            "text/plain": [
              "<keras.src.callbacks.History at 0x78dcc1fb0550>"
            ]
          },
          "metadata": {},
          "execution_count": 24
        }
      ]
    },
    {
      "cell_type": "code",
      "source": [
        "results = model.evaluate(test_generator)\n",
        "print(\"test loss, test acc:\", results)"
      ],
      "metadata": {
        "colab": {
          "base_uri": "https://localhost:8080/"
        },
        "id": "bmYr5g42DTzL",
        "outputId": "c8b90fcc-afb8-47fc-e282-83e25ebce13b"
      },
      "execution_count": null,
      "outputs": [
        {
          "output_type": "stream",
          "name": "stdout",
          "text": [
            "1/1 [==============================] - 0s 62ms/step - loss: 16.6179 - accuracy: 0.9375\n",
            "test loss, test acc: [16.617904663085938, 0.9375]\n"
          ]
        }
      ]
    },
    {
      "cell_type": "code",
      "source": [
        "model.save(\"arithmetic.h5\")"
      ],
      "metadata": {
        "id": "OAtSGU-3DluZ"
      },
      "execution_count": null,
      "outputs": []
    },
    {
      "cell_type": "code",
      "source": [
        "class_indices = train_generator.class_indices\n",
        "index_to_class = {v: k for k, v in class_indices.items()}\n",
        "print(index_to_class)"
      ],
      "metadata": {
        "colab": {
          "base_uri": "https://localhost:8080/"
        },
        "id": "nz-s7_W4nyWb",
        "outputId": "c9d30288-806f-4c91-d2e0-6c9aea6f1000"
      },
      "execution_count": null,
      "outputs": [
        {
          "output_type": "stream",
          "name": "stdout",
          "text": [
            "{0: '七', 1: '三', 2: '乘', 3: '九', 4: '二', 5: '于', 6: '五', 7: '八', 8: '六', 9: '加', 10: '十', 11: '四', 12: '減', 13: '等', 14: '除', 15: '零'}\n"
          ]
        }
      ]
    },
    {
      "cell_type": "markdown",
      "source": [
        "# bodyparts"
      ],
      "metadata": {
        "id": "jvgZMJZgYozu"
      }
    },
    {
      "cell_type": "code",
      "source": [
        "local_file = 'body_parts.zip'\n",
        "zip_ref = zipfile.ZipFile(local_file, 'r')\n",
        "zip_ref.extractall('')\n",
        "zip_ref.close()\n",
        "\n",
        "TRAINING_DIR = \"body_parts/train/\"\n",
        "TEST_DIR = \"body_parts/test/\"\n",
        "training_datagen = ImageDataGenerator()\n",
        "test_datagen = ImageDataGenerator()\n",
        "train_generator = training_datagen.flow_from_directory(\n",
        "    TRAINING_DIR,\n",
        "    class_mode='categorical',\n",
        "    batch_size=64,\n",
        "    target_size=(50, 50))\n",
        "test_generator = test_datagen.flow_from_directory(\n",
        "    TEST_DIR,\n",
        "    class_mode='categorical',\n",
        "    batch_size=64,\n",
        "    target_size=(50, 50)\n",
        ")"
      ],
      "metadata": {
        "colab": {
          "base_uri": "https://localhost:8080/"
        },
        "id": "lsS51VURYtgJ",
        "outputId": "75809665-b342-42e1-c1a5-34dd5ccfb618"
      },
      "execution_count": null,
      "outputs": [
        {
          "output_type": "stream",
          "name": "stdout",
          "text": [
            "Found 180 images belonging to 15 classes.\n",
            "Found 45 images belonging to 15 classes.\n"
          ]
        }
      ]
    },
    {
      "cell_type": "code",
      "source": [
        "num_classes = train_generator.num_classes\n",
        "model=tf.keras.models.Sequential([\n",
        "  tf.keras.layers.Conv2D(16, (3,3), input_shape=(50,50,3)),\n",
        "  tf.keras.layers.MaxPooling2D(2,2),\n",
        "  tf.keras.layers.Conv2D(32, (3,3)),\n",
        "  tf.keras.layers.MaxPooling2D(2,2),\n",
        "  tf.keras.layers.Flatten(),\n",
        "  tf.keras.layers.Dense(128),\n",
        "  tf.keras.layers.Dense(num_classes, activation='softmax')\n",
        "])\n",
        "model.compile(\n",
        "    optimizer = 'adam',\n",
        "    loss = 'categorical_crossentropy',\n",
        "    metrics = 'accuracy'\n",
        ")\n",
        "\n",
        "\n",
        "model.summary()"
      ],
      "metadata": {
        "colab": {
          "base_uri": "https://localhost:8080/"
        },
        "id": "9kW5WEVPY6s9",
        "outputId": "15c805bf-7d69-4056-9a3b-d2390821d958"
      },
      "execution_count": null,
      "outputs": [
        {
          "output_type": "stream",
          "name": "stdout",
          "text": [
            "Model: \"sequential_3\"\n",
            "_________________________________________________________________\n",
            " Layer (type)                Output Shape              Param #   \n",
            "=================================================================\n",
            " conv2d_6 (Conv2D)           (None, 48, 48, 16)        448       \n",
            "                                                                 \n",
            " max_pooling2d_6 (MaxPoolin  (None, 24, 24, 16)        0         \n",
            " g2D)                                                            \n",
            "                                                                 \n",
            " conv2d_7 (Conv2D)           (None, 22, 22, 32)        4640      \n",
            "                                                                 \n",
            " max_pooling2d_7 (MaxPoolin  (None, 11, 11, 32)        0         \n",
            " g2D)                                                            \n",
            "                                                                 \n",
            " flatten_3 (Flatten)         (None, 3872)              0         \n",
            "                                                                 \n",
            " dense_6 (Dense)             (None, 128)               495744    \n",
            "                                                                 \n",
            " dense_7 (Dense)             (None, 15)                1935      \n",
            "                                                                 \n",
            "=================================================================\n",
            "Total params: 502767 (1.92 MB)\n",
            "Trainable params: 502767 (1.92 MB)\n",
            "Non-trainable params: 0 (0.00 Byte)\n",
            "_________________________________________________________________\n"
          ]
        }
      ]
    },
    {
      "cell_type": "code",
      "source": [
        "model.fit(train_generator, epochs=10, validation_data=train_generator)"
      ],
      "metadata": {
        "colab": {
          "base_uri": "https://localhost:8080/"
        },
        "id": "ciH5Obu_Y7aP",
        "outputId": "63c384ae-529b-402b-dc41-657b0b962839"
      },
      "execution_count": null,
      "outputs": [
        {
          "output_type": "stream",
          "name": "stdout",
          "text": [
            "Epoch 1/10\n",
            "3/3 [==============================] - 3s 396ms/step - loss: 432.6722 - accuracy: 0.2778 - val_loss: 627.0590 - val_accuracy: 0.6500\n",
            "Epoch 2/10\n",
            "3/3 [==============================] - 0s 156ms/step - loss: 562.3770 - accuracy: 0.6056 - val_loss: 151.1480 - val_accuracy: 0.7333\n",
            "Epoch 3/10\n",
            "3/3 [==============================] - 0s 171ms/step - loss: 98.5443 - accuracy: 0.8222 - val_loss: 154.2160 - val_accuracy: 0.6333\n",
            "Epoch 4/10\n",
            "3/3 [==============================] - 0s 175ms/step - loss: 67.0068 - accuracy: 0.8611 - val_loss: 0.0000e+00 - val_accuracy: 1.0000\n",
            "Epoch 5/10\n",
            "3/3 [==============================] - 0s 162ms/step - loss: 2.3336 - accuracy: 0.9722 - val_loss: 10.8030 - val_accuracy: 0.9333\n",
            "Epoch 6/10\n",
            "3/3 [==============================] - 0s 172ms/step - loss: 5.3908 - accuracy: 0.9611 - val_loss: 0.0000e+00 - val_accuracy: 1.0000\n",
            "Epoch 7/10\n",
            "3/3 [==============================] - 0s 155ms/step - loss: 0.0000e+00 - accuracy: 1.0000 - val_loss: 0.0000e+00 - val_accuracy: 1.0000\n",
            "Epoch 8/10\n",
            "3/3 [==============================] - 0s 147ms/step - loss: 0.0000e+00 - accuracy: 1.0000 - val_loss: 0.0000e+00 - val_accuracy: 1.0000\n",
            "Epoch 9/10\n",
            "3/3 [==============================] - 0s 150ms/step - loss: 0.0000e+00 - accuracy: 1.0000 - val_loss: 0.0000e+00 - val_accuracy: 1.0000\n",
            "Epoch 10/10\n",
            "3/3 [==============================] - 0s 145ms/step - loss: 0.0000e+00 - accuracy: 1.0000 - val_loss: 0.0000e+00 - val_accuracy: 1.0000\n"
          ]
        },
        {
          "output_type": "execute_result",
          "data": {
            "text/plain": [
              "<keras.src.callbacks.History at 0x79c86d5390f0>"
            ]
          },
          "metadata": {},
          "execution_count": 13
        }
      ]
    },
    {
      "cell_type": "code",
      "source": [
        "results = model.evaluate(test_generator)\n",
        "print(\"test loss, test acc:\", results)"
      ],
      "metadata": {
        "colab": {
          "base_uri": "https://localhost:8080/"
        },
        "id": "Z7xzUR7DZCZq",
        "outputId": "15c60feb-ff91-429d-a412-12d6e4112abb"
      },
      "execution_count": null,
      "outputs": [
        {
          "output_type": "stream",
          "name": "stdout",
          "text": [
            "1/1 [==============================] - 0s 106ms/step - loss: 0.0000e+00 - accuracy: 1.0000\n",
            "test loss, test acc: [0.0, 1.0]\n"
          ]
        }
      ]
    },
    {
      "cell_type": "code",
      "source": [
        "model.save(\"bodyparts.h5\")"
      ],
      "metadata": {
        "id": "jGyPqZmXZDAQ",
        "colab": {
          "base_uri": "https://localhost:8080/"
        },
        "outputId": "64b6e376-3771-4e3c-aec6-414f2b524a89"
      },
      "execution_count": null,
      "outputs": [
        {
          "output_type": "stream",
          "name": "stderr",
          "text": [
            "/usr/local/lib/python3.10/dist-packages/keras/src/engine/training.py:3103: UserWarning: You are saving your model as an HDF5 file via `model.save()`. This file format is considered legacy. We recommend using instead the native Keras format, e.g. `model.save('my_model.keras')`.\n",
            "  saving_api.save_model(\n"
          ]
        }
      ]
    },
    {
      "cell_type": "code",
      "source": [
        "class_indices = train_generator.class_indices\n",
        "index_to_class = {v: k for k, v in class_indices.items()}\n",
        "print(index_to_class)"
      ],
      "metadata": {
        "colab": {
          "base_uri": "https://localhost:8080/"
        },
        "id": "vqbEzKQRn83s",
        "outputId": "98f9f08d-1c2c-46a4-8ab7-eaab1cb9bb52"
      },
      "execution_count": null,
      "outputs": [
        {
          "output_type": "stream",
          "name": "stdout",
          "text": [
            "{0: '口', 1: '心', 2: '手', 3: '牙', 4: '皮', 5: '眼', 6: '耳', 7: '腳', 8: '血', 9: '身', 10: '面', 11: '頭', 12: '骨', 13: '髮', 14: '鼻'}\n"
          ]
        }
      ]
    },
    {
      "cell_type": "markdown",
      "source": [
        "# conversational"
      ],
      "metadata": {
        "id": "qm-Jv4sIZXUq"
      }
    },
    {
      "cell_type": "code",
      "source": [
        "local_file = 'Conversational.zip'\n",
        "zip_ref = zipfile.ZipFile(local_file, 'r')\n",
        "zip_ref.extractall('')\n",
        "zip_ref.close()\n",
        "\n",
        "TRAINING_DIR = \"Conversational/train/\"\n",
        "TEST_DIR = \"Conversational/test/\"\n",
        "training_datagen = ImageDataGenerator()\n",
        "test_datagen = ImageDataGenerator()\n",
        "train_generator = training_datagen.flow_from_directory(\n",
        "    TRAINING_DIR,\n",
        "    class_mode='categorical',\n",
        "    batch_size=64,\n",
        "    target_size=(50, 50))\n",
        "test_generator = test_datagen.flow_from_directory(\n",
        "    TEST_DIR,\n",
        "    class_mode='categorical',\n",
        "    batch_size=64,\n",
        "    target_size=(50, 50)\n",
        ")"
      ],
      "metadata": {
        "colab": {
          "base_uri": "https://localhost:8080/"
        },
        "id": "E8Gt4OF4ZYWD",
        "outputId": "753004df-34d5-48e3-c4f8-0cab26cc7b6c"
      },
      "execution_count": null,
      "outputs": [
        {
          "output_type": "stream",
          "name": "stdout",
          "text": [
            "Found 241 images belonging to 20 classes.\n",
            "Found 60 images belonging to 20 classes.\n"
          ]
        }
      ]
    },
    {
      "cell_type": "code",
      "source": [
        "num_classes = train_generator.num_classes\n",
        "model=tf.keras.models.Sequential([\n",
        "  tf.keras.layers.Conv2D(16, (3,3), input_shape=(50,50,3)),\n",
        "  tf.keras.layers.MaxPooling2D(2,2),\n",
        "  tf.keras.layers.Conv2D(32, (3,3)),\n",
        "  tf.keras.layers.MaxPooling2D(2,2),\n",
        "  # tf.keras.layers.Conv2D(64, (3,3)),\n",
        "  # tf.keras.layers.MaxPooling2D(2,2),\n",
        "  tf.keras.layers.Flatten(),\n",
        "  tf.keras.layers.Dense(128),\n",
        "  tf.keras.layers.Dense(num_classes, activation='softmax')\n",
        "])\n",
        "model.compile(\n",
        "    optimizer = 'adam',\n",
        "    loss = 'categorical_crossentropy',\n",
        "    metrics = 'accuracy'\n",
        ")\n",
        "\n",
        "\n",
        "model.summary()"
      ],
      "metadata": {
        "colab": {
          "base_uri": "https://localhost:8080/"
        },
        "id": "vv0s3a8JaAhb",
        "outputId": "a7f4a84d-7469-4487-b129-e7e35b0d3fc3"
      },
      "execution_count": null,
      "outputs": [
        {
          "output_type": "stream",
          "name": "stdout",
          "text": [
            "Model: \"sequential\"\n",
            "_________________________________________________________________\n",
            " Layer (type)                Output Shape              Param #   \n",
            "=================================================================\n",
            " conv2d (Conv2D)             (None, 48, 48, 16)        448       \n",
            "                                                                 \n",
            " max_pooling2d (MaxPooling2  (None, 24, 24, 16)        0         \n",
            " D)                                                              \n",
            "                                                                 \n",
            " conv2d_1 (Conv2D)           (None, 22, 22, 32)        4640      \n",
            "                                                                 \n",
            " max_pooling2d_1 (MaxPoolin  (None, 11, 11, 32)        0         \n",
            " g2D)                                                            \n",
            "                                                                 \n",
            " flatten (Flatten)           (None, 3872)              0         \n",
            "                                                                 \n",
            " dense (Dense)               (None, 128)               495744    \n",
            "                                                                 \n",
            " dense_1 (Dense)             (None, 20)                2580      \n",
            "                                                                 \n",
            "=================================================================\n",
            "Total params: 503412 (1.92 MB)\n",
            "Trainable params: 503412 (1.92 MB)\n",
            "Non-trainable params: 0 (0.00 Byte)\n",
            "_________________________________________________________________\n"
          ]
        }
      ]
    },
    {
      "cell_type": "code",
      "source": [
        "model.fit(train_generator, epochs=10, validation_data=test_generator)"
      ],
      "metadata": {
        "colab": {
          "base_uri": "https://localhost:8080/"
        },
        "id": "1xx4PWBVaBNk",
        "outputId": "f4c5eced-b9c1-45ba-a78b-5ba5d42e2547"
      },
      "execution_count": null,
      "outputs": [
        {
          "output_type": "stream",
          "name": "stdout",
          "text": [
            "Epoch 1/10\n",
            "4/4 [==============================] - 1s 114ms/step - loss: 753.2778 - accuracy: 0.0871 - val_loss: 431.7749 - val_accuracy: 0.3500\n",
            "Epoch 2/10\n",
            "4/4 [==============================] - 0s 35ms/step - loss: 238.9973 - accuracy: 0.5394 - val_loss: 332.7528 - val_accuracy: 0.2667\n",
            "Epoch 3/10\n",
            "4/4 [==============================] - 0s 33ms/step - loss: 126.5810 - accuracy: 0.6266 - val_loss: 40.8301 - val_accuracy: 0.9000\n",
            "Epoch 4/10\n",
            "4/4 [==============================] - 0s 32ms/step - loss: 52.0256 - accuracy: 0.9170 - val_loss: 53.7969 - val_accuracy: 0.9500\n",
            "Epoch 5/10\n",
            "4/4 [==============================] - 0s 36ms/step - loss: 42.7278 - accuracy: 0.9502 - val_loss: 29.6664 - val_accuracy: 0.9500\n",
            "Epoch 6/10\n",
            "4/4 [==============================] - 0s 35ms/step - loss: 9.5203 - accuracy: 0.9668 - val_loss: 1.8814e-06 - val_accuracy: 1.0000\n",
            "Epoch 7/10\n",
            "4/4 [==============================] - 0s 32ms/step - loss: 1.3578 - accuracy: 0.9834 - val_loss: 0.0382 - val_accuracy: 0.9833\n",
            "Epoch 8/10\n",
            "4/4 [==============================] - 0s 32ms/step - loss: 1.0232 - accuracy: 0.9876 - val_loss: 0.0000e+00 - val_accuracy: 1.0000\n",
            "Epoch 9/10\n",
            "4/4 [==============================] - 0s 32ms/step - loss: 0.0456 - accuracy: 0.9959 - val_loss: 0.0000e+00 - val_accuracy: 1.0000\n",
            "Epoch 10/10\n",
            "4/4 [==============================] - 0s 42ms/step - loss: 1.7592e-04 - accuracy: 1.0000 - val_loss: 2.5829e-08 - val_accuracy: 1.0000\n"
          ]
        },
        {
          "output_type": "execute_result",
          "data": {
            "text/plain": [
              "<keras.src.callbacks.History at 0x7b1600226aa0>"
            ]
          },
          "metadata": {},
          "execution_count": 9
        }
      ]
    },
    {
      "cell_type": "code",
      "source": [
        "results = model.evaluate(test_generator)\n",
        "print(\"test loss, test acc:\", results)"
      ],
      "metadata": {
        "colab": {
          "base_uri": "https://localhost:8080/"
        },
        "id": "mD7B5Wl8aDF3",
        "outputId": "3635fb96-2635-4012-bf5b-8d5240de32d3"
      },
      "execution_count": null,
      "outputs": [
        {
          "output_type": "stream",
          "name": "stdout",
          "text": [
            "1/1 [==============================] - 0s 49ms/step - loss: 2.5829e-08 - accuracy: 1.0000\n",
            "test loss, test acc: [2.5828658323234777e-08, 1.0]\n"
          ]
        }
      ]
    },
    {
      "cell_type": "code",
      "source": [
        "model.save(\"conversational.h5\")"
      ],
      "metadata": {
        "id": "ZLIMiHZsaEfh",
        "colab": {
          "base_uri": "https://localhost:8080/"
        },
        "outputId": "52079e1e-261b-43d2-8eea-0e4719a7dafa"
      },
      "execution_count": null,
      "outputs": [
        {
          "output_type": "stream",
          "name": "stderr",
          "text": [
            "/usr/local/lib/python3.10/dist-packages/keras/src/engine/training.py:3103: UserWarning: You are saving your model as an HDF5 file via `model.save()`. This file format is considered legacy. We recommend using instead the native Keras format, e.g. `model.save('my_model.keras')`.\n",
            "  saving_api.save_model(\n"
          ]
        }
      ]
    },
    {
      "cell_type": "code",
      "source": [
        "class_indices = train_generator.class_indices\n",
        "index_to_class = {v: k for k, v in class_indices.items()}\n",
        "print(index_to_class)"
      ],
      "metadata": {
        "colab": {
          "base_uri": "https://localhost:8080/"
        },
        "id": "HU0ublmIoC4I",
        "outputId": "a26abbb1-cb1f-45ec-e05f-9740c11f8768"
      },
      "execution_count": null,
      "outputs": [
        {
          "output_type": "stream",
          "name": "stdout",
          "text": [
            "{0: '不', 1: '也', 2: '他', 3: '住', 4: '你', 5: '們', 6: '做', 7: '叫', 8: '呢', 9: '嗎', 10: '她', 11: '好', 12: '學', 13: '它', 14: '很', 15: '您', 16: '我', 17: '是', 18: '這', 19: '那'}\n"
          ]
        }
      ]
    },
    {
      "cell_type": "markdown",
      "source": [
        "# locations"
      ],
      "metadata": {
        "id": "eFsgn6czaKVz"
      }
    },
    {
      "cell_type": "code",
      "source": [
        "local_file = 'location.zip'\n",
        "zip_ref = zipfile.ZipFile(local_file, 'r')\n",
        "zip_ref.extractall('')\n",
        "zip_ref.close()\n",
        "\n",
        "TRAINING_DIR = \"location/train/\"\n",
        "TEST_DIR = \"location/test/\"\n",
        "training_datagen = ImageDataGenerator()\n",
        "test_datagen = ImageDataGenerator()\n",
        "train_generator = training_datagen.flow_from_directory(\n",
        "    TRAINING_DIR,\n",
        "    class_mode='categorical',\n",
        "    batch_size=64,\n",
        "    target_size=(50, 50))\n",
        "test_generator = test_datagen.flow_from_directory(\n",
        "    TEST_DIR,\n",
        "    class_mode='categorical',\n",
        "    batch_size=64,\n",
        "    target_size=(50, 50)\n",
        ")"
      ],
      "metadata": {
        "colab": {
          "base_uri": "https://localhost:8080/"
        },
        "id": "bAFtVSVnaOew",
        "outputId": "5c9f7861-dc1f-49c7-9ac7-8edb31267c08"
      },
      "execution_count": null,
      "outputs": [
        {
          "output_type": "stream",
          "name": "stdout",
          "text": [
            "Found 264 images belonging to 22 classes.\n",
            "Found 66 images belonging to 22 classes.\n"
          ]
        }
      ]
    },
    {
      "cell_type": "code",
      "source": [
        "num_classes = train_generator.num_classes\n",
        "model=tf.keras.models.Sequential([\n",
        "# YOUR CODE HERE, end with 3 Neuron Dense, activated by softmax\n",
        "  tf.keras.layers.Conv2D(16, (3,3), input_shape=(50,50,3)),\n",
        "  tf.keras.layers.MaxPooling2D(2,2),\n",
        "  tf.keras.layers.Conv2D(32, (3,3)),\n",
        "  tf.keras.layers.MaxPooling2D(2,2),\n",
        "  # tf.keras.layers.Conv2D(64, (3,3)),\n",
        "  # tf.keras.layers.MaxPooling2D(2,2),\n",
        "  tf.keras.layers.Flatten(),\n",
        "  tf.keras.layers.Dense(128),\n",
        "  tf.keras.layers.Dense(num_classes, activation='softmax')\n",
        "])\n",
        "model.compile(\n",
        "    optimizer = 'adam',\n",
        "    loss = 'categorical_crossentropy',\n",
        "    metrics = 'accuracy'\n",
        ")\n",
        "\n",
        "\n",
        "model.summary()"
      ],
      "metadata": {
        "colab": {
          "base_uri": "https://localhost:8080/"
        },
        "id": "9gG0wrqjaWus",
        "outputId": "76d88068-177e-484e-8989-b110716f8364"
      },
      "execution_count": null,
      "outputs": [
        {
          "output_type": "stream",
          "name": "stdout",
          "text": [
            "Model: \"sequential_4\"\n",
            "_________________________________________________________________\n",
            " Layer (type)                Output Shape              Param #   \n",
            "=================================================================\n",
            " conv2d_8 (Conv2D)           (None, 48, 48, 16)        448       \n",
            "                                                                 \n",
            " max_pooling2d_8 (MaxPoolin  (None, 24, 24, 16)        0         \n",
            " g2D)                                                            \n",
            "                                                                 \n",
            " conv2d_9 (Conv2D)           (None, 22, 22, 32)        4640      \n",
            "                                                                 \n",
            " max_pooling2d_9 (MaxPoolin  (None, 11, 11, 32)        0         \n",
            " g2D)                                                            \n",
            "                                                                 \n",
            " flatten_4 (Flatten)         (None, 3872)              0         \n",
            "                                                                 \n",
            " dense_8 (Dense)             (None, 128)               495744    \n",
            "                                                                 \n",
            " dense_9 (Dense)             (None, 22)                2838      \n",
            "                                                                 \n",
            "=================================================================\n",
            "Total params: 503670 (1.92 MB)\n",
            "Trainable params: 503670 (1.92 MB)\n",
            "Non-trainable params: 0 (0.00 Byte)\n",
            "_________________________________________________________________\n"
          ]
        }
      ]
    },
    {
      "cell_type": "code",
      "source": [
        "model.fit(train_generator, epochs=10, validation_data=test_generator)"
      ],
      "metadata": {
        "colab": {
          "base_uri": "https://localhost:8080/"
        },
        "id": "f5rBI14Zaebu",
        "outputId": "fc2cd7f8-b1b8-4601-e743-2c10b0b61eb8"
      },
      "execution_count": null,
      "outputs": [
        {
          "output_type": "stream",
          "name": "stdout",
          "text": [
            "Epoch 1/10\n",
            "5/5 [==============================] - 2s 143ms/step - loss: 390.3249 - accuracy: 0.1174 - val_loss: 280.3928 - val_accuracy: 0.5152\n",
            "Epoch 2/10\n",
            "5/5 [==============================] - 1s 116ms/step - loss: 129.1106 - accuracy: 0.6439 - val_loss: 7.6675 - val_accuracy: 0.8485\n",
            "Epoch 3/10\n",
            "5/5 [==============================] - 1s 93ms/step - loss: 19.2980 - accuracy: 0.8371 - val_loss: 0.0000e+00 - val_accuracy: 1.0000\n",
            "Epoch 4/10\n",
            "5/5 [==============================] - 1s 120ms/step - loss: 1.1816 - accuracy: 0.9811 - val_loss: 0.8393 - val_accuracy: 0.9697\n",
            "Epoch 5/10\n",
            "5/5 [==============================] - 1s 89ms/step - loss: 1.5829 - accuracy: 0.9735 - val_loss: 3.6124e-09 - val_accuracy: 1.0000\n",
            "Epoch 6/10\n",
            "5/5 [==============================] - 1s 97ms/step - loss: 0.6526 - accuracy: 0.9962 - val_loss: 0.0000e+00 - val_accuracy: 1.0000\n",
            "Epoch 7/10\n",
            "5/5 [==============================] - 1s 116ms/step - loss: 3.2650 - accuracy: 0.9697 - val_loss: 6.5444e-05 - val_accuracy: 1.0000\n",
            "Epoch 8/10\n",
            "5/5 [==============================] - 1s 121ms/step - loss: 0.1279 - accuracy: 0.9924 - val_loss: 0.0000e+00 - val_accuracy: 1.0000\n",
            "Epoch 9/10\n",
            "5/5 [==============================] - 1s 116ms/step - loss: 0.0000e+00 - accuracy: 1.0000 - val_loss: 0.0000e+00 - val_accuracy: 1.0000\n",
            "Epoch 10/10\n",
            "5/5 [==============================] - 0s 92ms/step - loss: 0.0000e+00 - accuracy: 1.0000 - val_loss: 0.0000e+00 - val_accuracy: 1.0000\n"
          ]
        },
        {
          "output_type": "execute_result",
          "data": {
            "text/plain": [
              "<keras.src.callbacks.History at 0x79c859a06bf0>"
            ]
          },
          "metadata": {},
          "execution_count": 18
        }
      ]
    },
    {
      "cell_type": "code",
      "source": [
        "results = model.evaluate(test_generator)\n",
        "print(\"test loss, test acc:\", results)"
      ],
      "metadata": {
        "colab": {
          "base_uri": "https://localhost:8080/"
        },
        "id": "FrIH5h82afmN",
        "outputId": "caf53217-1c62-4b8d-bc1c-8afdf1359703"
      },
      "execution_count": null,
      "outputs": [
        {
          "output_type": "stream",
          "name": "stdout",
          "text": [
            "2/2 [==============================] - 0s 9ms/step - loss: 0.0000e+00 - accuracy: 1.0000\n",
            "test loss, test acc: [0.0, 1.0]\n"
          ]
        }
      ]
    },
    {
      "cell_type": "code",
      "source": [
        "model.save(\"location.h5\")"
      ],
      "metadata": {
        "id": "D1uxoT5Qagpl",
        "colab": {
          "base_uri": "https://localhost:8080/"
        },
        "outputId": "51bc0022-ea2b-4f35-9ef9-677765135d9b"
      },
      "execution_count": null,
      "outputs": [
        {
          "output_type": "stream",
          "name": "stderr",
          "text": [
            "/usr/local/lib/python3.10/dist-packages/keras/src/engine/training.py:3103: UserWarning: You are saving your model as an HDF5 file via `model.save()`. This file format is considered legacy. We recommend using instead the native Keras format, e.g. `model.save('my_model.keras')`.\n",
            "  saving_api.save_model(\n"
          ]
        }
      ]
    },
    {
      "cell_type": "code",
      "source": [
        "class_indices = train_generator.class_indices\n",
        "index_to_class = {v: k for k, v in class_indices.items()}\n",
        "print(index_to_class)"
      ],
      "metadata": {
        "colab": {
          "base_uri": "https://localhost:8080/"
        },
        "id": "FaV_gPqqoGi0",
        "outputId": "acf9bff2-cf34-441c-afa1-5b764b8cc97b"
      },
      "execution_count": null,
      "outputs": [
        {
          "output_type": "stream",
          "name": "stdout",
          "text": [
            "{0: '上', 1: '下', 2: '中', 3: '內', 4: '前', 5: '北', 6: '南', 7: '右', 8: '國', 9: '外', 10: '左', 11: '市', 12: '店', 13: '後', 14: '房', 15: '東', 16: '田', 17: '街', 18: '西', 19: '里', 20: '門', 21: '間'}\n"
          ]
        }
      ]
    },
    {
      "cell_type": "markdown",
      "source": [
        "# nature"
      ],
      "metadata": {
        "id": "gfDwy6_Caiym"
      }
    },
    {
      "cell_type": "code",
      "source": [
        "local_file = 'nature.zip'\n",
        "zip_ref = zipfile.ZipFile(local_file, 'r')\n",
        "zip_ref.extractall('')\n",
        "zip_ref.close()\n",
        "\n",
        "TRAINING_DIR = \"nature/train/\"\n",
        "TEST_DIR = \"nature/test/\"\n",
        "training_datagen = ImageDataGenerator()\n",
        "test_datagen = ImageDataGenerator()\n",
        "train_generator = training_datagen.flow_from_directory(\n",
        "    TRAINING_DIR,\n",
        "    class_mode='categorical',\n",
        "    batch_size=64,\n",
        "    target_size=(50, 50))\n",
        "test_generator = test_datagen.flow_from_directory(\n",
        "    TEST_DIR,\n",
        "    class_mode='categorical',\n",
        "    batch_size=64,\n",
        "    target_size=(50, 50)\n",
        ")"
      ],
      "metadata": {
        "colab": {
          "base_uri": "https://localhost:8080/"
        },
        "id": "YCUJ4g_Iak1W",
        "outputId": "d5b63e92-1f77-48a3-b3e6-0acb5951d951"
      },
      "execution_count": null,
      "outputs": [
        {
          "output_type": "stream",
          "name": "stdout",
          "text": [
            "Found 182 images belonging to 15 classes.\n",
            "Found 45 images belonging to 15 classes.\n"
          ]
        }
      ]
    },
    {
      "cell_type": "code",
      "source": [
        "num_classes = train_generator.num_classes\n",
        "model=tf.keras.models.Sequential([\n",
        "# YOUR CODE HERE, end with 3 Neuron Dense, activated by softmax\n",
        "  tf.keras.layers.Conv2D(16, (3,3), input_shape=(50,50,3)),\n",
        "  tf.keras.layers.MaxPooling2D(2,2),\n",
        "  tf.keras.layers.Conv2D(32, (3,3)),\n",
        "  tf.keras.layers.MaxPooling2D(2,2),\n",
        "  # tf.keras.layers.Conv2D(64, (3,3)),\n",
        "  # tf.keras.layers.MaxPooling2D(2,2),\n",
        "  tf.keras.layers.Flatten(),\n",
        "  tf.keras.layers.Dense(128),\n",
        "  tf.keras.layers.Dense(num_classes, activation='softmax')\n",
        "])\n",
        "model.compile(\n",
        "    optimizer = 'adam',\n",
        "    loss = 'categorical_crossentropy',\n",
        "    metrics = 'accuracy'\n",
        ")\n",
        "\n",
        "\n",
        "model.summary()"
      ],
      "metadata": {
        "colab": {
          "base_uri": "https://localhost:8080/"
        },
        "id": "LiWRqSGYapWT",
        "outputId": "371a78a5-2c30-4245-d34b-66fcc10d3867"
      },
      "execution_count": null,
      "outputs": [
        {
          "output_type": "stream",
          "name": "stdout",
          "text": [
            "Model: \"sequential\"\n",
            "_________________________________________________________________\n",
            " Layer (type)                Output Shape              Param #   \n",
            "=================================================================\n",
            " conv2d (Conv2D)             (None, 48, 48, 16)        448       \n",
            "                                                                 \n",
            " max_pooling2d (MaxPooling2  (None, 24, 24, 16)        0         \n",
            " D)                                                              \n",
            "                                                                 \n",
            " conv2d_1 (Conv2D)           (None, 22, 22, 32)        4640      \n",
            "                                                                 \n",
            " max_pooling2d_1 (MaxPoolin  (None, 11, 11, 32)        0         \n",
            " g2D)                                                            \n",
            "                                                                 \n",
            " flatten (Flatten)           (None, 3872)              0         \n",
            "                                                                 \n",
            " dense (Dense)               (None, 128)               495744    \n",
            "                                                                 \n",
            " dense_1 (Dense)             (None, 15)                1935      \n",
            "                                                                 \n",
            "=================================================================\n",
            "Total params: 502767 (1.92 MB)\n",
            "Trainable params: 502767 (1.92 MB)\n",
            "Non-trainable params: 0 (0.00 Byte)\n",
            "_________________________________________________________________\n"
          ]
        }
      ]
    },
    {
      "cell_type": "code",
      "source": [
        "model.fit(train_generator, epochs=10, validation_data=test_generator)"
      ],
      "metadata": {
        "colab": {
          "base_uri": "https://localhost:8080/"
        },
        "id": "TxudHSNIauf3",
        "outputId": "a5088a25-5391-41f8-af21-319c1c6797ad"
      },
      "execution_count": null,
      "outputs": [
        {
          "output_type": "stream",
          "name": "stdout",
          "text": [
            "Epoch 1/10\n",
            "3/3 [==============================] - 0s 62ms/step - loss: 0.6623 - accuracy: 0.9890 - val_loss: 3.6876 - val_accuracy: 0.9333\n",
            "Epoch 2/10\n",
            "3/3 [==============================] - 0s 37ms/step - loss: 7.8726e-06 - accuracy: 1.0000 - val_loss: 2.5829 - val_accuracy: 0.9556\n",
            "Epoch 3/10\n",
            "3/3 [==============================] - 0s 38ms/step - loss: 3.4349e-06 - accuracy: 1.0000 - val_loss: 1.8072 - val_accuracy: 0.9556\n",
            "Epoch 4/10\n",
            "3/3 [==============================] - 0s 37ms/step - loss: 0.0957 - accuracy: 0.9945 - val_loss: 1.1576 - val_accuracy: 0.9778\n",
            "Epoch 5/10\n",
            "3/3 [==============================] - 0s 46ms/step - loss: 2.7510e-08 - accuracy: 1.0000 - val_loss: 0.5117 - val_accuracy: 0.9778\n",
            "Epoch 6/10\n",
            "3/3 [==============================] - 0s 39ms/step - loss: 0.0000e+00 - accuracy: 1.0000 - val_loss: 0.0312 - val_accuracy: 0.9778\n",
            "Epoch 7/10\n",
            "3/3 [==============================] - 0s 38ms/step - loss: 0.0000e+00 - accuracy: 1.0000 - val_loss: 2.5696e-07 - val_accuracy: 1.0000\n",
            "Epoch 8/10\n",
            "3/3 [==============================] - 0s 56ms/step - loss: 0.0000e+00 - accuracy: 1.0000 - val_loss: 1.7404e-06 - val_accuracy: 1.0000\n",
            "Epoch 9/10\n",
            "3/3 [==============================] - 0s 73ms/step - loss: 0.0000e+00 - accuracy: 1.0000 - val_loss: 7.5831e-06 - val_accuracy: 1.0000\n",
            "Epoch 10/10\n",
            "3/3 [==============================] - 0s 67ms/step - loss: 0.0000e+00 - accuracy: 1.0000 - val_loss: 2.3234e-05 - val_accuracy: 1.0000\n"
          ]
        },
        {
          "output_type": "execute_result",
          "data": {
            "text/plain": [
              "<keras.src.callbacks.History at 0x7af2fcac5930>"
            ]
          },
          "metadata": {},
          "execution_count": 9
        }
      ]
    },
    {
      "cell_type": "code",
      "source": [
        "results = model.evaluate(test_generator)\n",
        "print(\"test loss, test acc:\", results)"
      ],
      "metadata": {
        "colab": {
          "base_uri": "https://localhost:8080/"
        },
        "id": "VbtiYvOdawtV",
        "outputId": "4036afce-0bd8-4f7a-b2b5-11fd289cdc54"
      },
      "execution_count": null,
      "outputs": [
        {
          "output_type": "stream",
          "name": "stdout",
          "text": [
            "1/1 [==============================] - 0s 44ms/step - loss: 2.3234e-05 - accuracy: 1.0000\n",
            "test loss, test acc: [2.323366243217606e-05, 1.0]\n"
          ]
        }
      ]
    },
    {
      "cell_type": "code",
      "source": [
        "model.save(\"nature.h5\")"
      ],
      "metadata": {
        "id": "q9ruO3iKaya6",
        "colab": {
          "base_uri": "https://localhost:8080/"
        },
        "outputId": "66d3fcc2-b277-4a7d-e3e3-161c453f1006"
      },
      "execution_count": null,
      "outputs": [
        {
          "output_type": "stream",
          "name": "stderr",
          "text": [
            "/usr/local/lib/python3.10/dist-packages/keras/src/engine/training.py:3103: UserWarning: You are saving your model as an HDF5 file via `model.save()`. This file format is considered legacy. We recommend using instead the native Keras format, e.g. `model.save('my_model.keras')`.\n",
            "  saving_api.save_model(\n"
          ]
        }
      ]
    },
    {
      "cell_type": "code",
      "source": [
        "class_indices = train_generator.class_indices\n",
        "index_to_class = {v: k for k, v in class_indices.items()}\n",
        "print(index_to_class)"
      ],
      "metadata": {
        "colab": {
          "base_uri": "https://localhost:8080/"
        },
        "id": "4CoWM372oJLQ",
        "outputId": "6faf5389-1f9a-4eac-f959-39748a2ebb27"
      },
      "execution_count": null,
      "outputs": [
        {
          "output_type": "stream",
          "name": "stdout",
          "text": [
            "{0: '北', 1: '南', 2: '土', 3: '地', 4: '天', 5: '山', 6: '日', 7: '月', 8: '木', 9: '東', 10: '水', 11: '火', 12: '西', 13: '雨', 14: '雪'}\n"
          ]
        }
      ]
    },
    {
      "cell_type": "markdown",
      "source": [
        "# Converting model to TFLite"
      ],
      "metadata": {
        "id": "4b9bJY_moy1S"
      }
    },
    {
      "cell_type": "code",
      "source": [
        "import tensorflow as tf\n",
        "\n",
        "model = tf.keras.models.load_model('arithmetic.h5')\n",
        "\n",
        "converter = tf.lite.TFLiteConverter.from_keras_model(model)\n",
        "tflite_model = converter.convert()\n",
        "\n",
        "# Simpan model TensorFlow Lite ke file\n",
        "with open('arithmetic.tflite', 'wb') as f:\n",
        "    f.write(tflite_model)\n"
      ],
      "metadata": {
        "id": "YTEpUv1Qo4ec"
      },
      "execution_count": null,
      "outputs": []
    },
    {
      "cell_type": "code",
      "source": [
        "model = tf.keras.models.load_model('bodyparts.h5')\n",
        "\n",
        "converter = tf.lite.TFLiteConverter.from_keras_model(model)\n",
        "tflite_model = converter.convert()\n",
        "\n",
        "# Simpan model TensorFlow Lite ke file\n",
        "with open('bodyparts.tflite', 'wb') as f:\n",
        "    f.write(tflite_model)\n"
      ],
      "metadata": {
        "id": "EWfyuHiE33d8"
      },
      "execution_count": null,
      "outputs": []
    },
    {
      "cell_type": "code",
      "source": [
        "model = tf.keras.models.load_model('conversational.h5')\n",
        "\n",
        "converter = tf.lite.TFLiteConverter.from_keras_model(model)\n",
        "tflite_model = converter.convert()\n",
        "\n",
        "# Simpan model TensorFlow Lite ke file\n",
        "with open('conversational.tflite', 'wb') as f:\n",
        "    f.write(tflite_model)\n"
      ],
      "metadata": {
        "id": "UkgkIo4U34Do"
      },
      "execution_count": null,
      "outputs": []
    },
    {
      "cell_type": "code",
      "source": [
        "model = tf.keras.models.load_model('location.h5')\n",
        "\n",
        "converter = tf.lite.TFLiteConverter.from_keras_model(model)\n",
        "tflite_model = converter.convert()\n",
        "\n",
        "# Simpan model TensorFlow Lite ke file\n",
        "with open('location.tflite', 'wb') as f:\n",
        "    f.write(tflite_model)\n"
      ],
      "metadata": {
        "id": "n--nqiB934lt"
      },
      "execution_count": null,
      "outputs": []
    },
    {
      "cell_type": "code",
      "source": [
        "model = tf.keras.models.load_model('nature.h5')\n",
        "\n",
        "converter = tf.lite.TFLiteConverter.from_keras_model(model)\n",
        "tflite_model = converter.convert()\n",
        "\n",
        "# Simpan model TensorFlow Lite ke file\n",
        "with open('nature.tflite', 'wb') as f:\n",
        "    f.write(tflite_model)\n"
      ],
      "metadata": {
        "id": "G7XfdEpk35Dh"
      },
      "execution_count": null,
      "outputs": []
    }
  ]
}